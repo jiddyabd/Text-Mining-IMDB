{
  "nbformat": 4,
  "nbformat_minor": 0,
  "metadata": {
    "colab": {
      "name": "TextMining-Assignment2-1301162765.ipynb",
      "provenance": []
    },
    "kernelspec": {
      "name": "python3",
      "display_name": "Python 3"
    }
  },
  "cells": [
    {
      "cell_type": "code",
      "metadata": {
        "id": "dXNon---KURr",
        "colab_type": "code",
        "colab": {
          "base_uri": "https://localhost:8080/",
          "height": 136
        },
        "outputId": "05181397-3ea8-44e5-c882-21741c2586a6"
      },
      "source": [
        "import numpy as np\n",
        "import pandas as pd\n",
        "import pickle\n",
        "from collections import defaultdict\n",
        "import re\n",
        "import io\n",
        "\n",
        "from bs4 import BeautifulSoup\n",
        "\n",
        "import sys\n",
        "import os\n",
        "\n",
        "from keras.preprocessing.text import Tokenizer\n",
        "from keras.preprocessing.sequence import pad_sequences\n",
        "from keras.utils.np_utils import to_categorical\n",
        "\n",
        "from keras.layers import Embedding\n",
        "from keras.layers import Dense, Input, Flatten\n",
        "from keras.layers import Conv1D, MaxPooling1D, Embedding\n",
        "from keras.layers import Dropout, LSTM, Bidirectional\n",
        "from keras.models import Model, Sequential\n",
        "\n",
        "from keras.engine.topology import Layer, InputSpec\n",
        "from keras import initializers\n",
        "from keras.callbacks import ModelCheckpoint\n",
        "from keras import backend as K\n",
        "\n",
        "import nltk\n",
        "from nltk.corpus import stopwords\n",
        "from nltk.stem import WordNetLemmatizer\n",
        "nltk.download('punkt')\n",
        "nltk.download('wordnet')\n",
        "nltk.download('stopwords')\n",
        "\n",
        "import matplotlib.pyplot as plt\n",
        "%matplotlib inline\n",
        "plt.switch_backend('agg')"
      ],
      "execution_count": null,
      "outputs": [
        {
          "output_type": "stream",
          "text": [
            "Using TensorFlow backend.\n"
          ],
          "name": "stderr"
        },
        {
          "output_type": "stream",
          "text": [
            "[nltk_data] Downloading package punkt to /root/nltk_data...\n",
            "[nltk_data]   Unzipping tokenizers/punkt.zip.\n",
            "[nltk_data] Downloading package wordnet to /root/nltk_data...\n",
            "[nltk_data]   Unzipping corpora/wordnet.zip.\n",
            "[nltk_data] Downloading package stopwords to /root/nltk_data...\n",
            "[nltk_data]   Unzipping corpora/stopwords.zip.\n"
          ],
          "name": "stdout"
        }
      ]
    },
    {
      "cell_type": "code",
      "metadata": {
        "id": "5qFHzd6yLiss",
        "colab_type": "code",
        "colab": {}
      },
      "source": [
        "MAX_SEQUENCE_LENGTH = 1000\n",
        "MAX_NB_WORDS = 20000\n",
        "EMBEDDING_DIM = 100\n",
        "VALIDATION_SPLIT = 0.2"
      ],
      "execution_count": null,
      "outputs": []
    },
    {
      "cell_type": "code",
      "metadata": {
        "id": "6hcrU_PVQ_i-",
        "colab_type": "code",
        "colab": {
          "base_uri": "https://localhost:8080/",
          "height": 125
        },
        "outputId": "e4e1de58-5a2b-4901-e6d4-f98559ce2346"
      },
      "source": [
        "from google.colab import drive\n",
        "drive.mount('/content/drive')"
      ],
      "execution_count": null,
      "outputs": [
        {
          "output_type": "stream",
          "text": [
            "Go to this URL in a browser: https://accounts.google.com/o/oauth2/auth?client_id=947318989803-6bn6qk8qdgf4n4g3pfee6491hc0brc4i.apps.googleusercontent.com&redirect_uri=urn%3aietf%3awg%3aoauth%3a2.0%3aoob&response_type=code&scope=email%20https%3a%2f%2fwww.googleapis.com%2fauth%2fdocs.test%20https%3a%2f%2fwww.googleapis.com%2fauth%2fdrive%20https%3a%2f%2fwww.googleapis.com%2fauth%2fdrive.photos.readonly%20https%3a%2f%2fwww.googleapis.com%2fauth%2fpeopleapi.readonly\n",
            "\n",
            "Enter your authorization code:\n",
            "··········\n",
            "Mounted at /content/drive\n"
          ],
          "name": "stdout"
        }
      ]
    },
    {
      "cell_type": "code",
      "metadata": {
        "id": "CxtlMUmOLpCB",
        "colab_type": "code",
        "colab": {
          "base_uri": "https://localhost:8080/",
          "height": 159
        },
        "outputId": "b77979e9-b898-4519-9f77-24665ace3164"
      },
      "source": [
        "data_train = pd.read_csv('/content/drive/My Drive/Colab Notebooks/labeledTrainData.tsv',sep='\\t')\n",
        "print(data_train.shape)\n",
        "data_train[0:3]"
      ],
      "execution_count": null,
      "outputs": [
        {
          "output_type": "stream",
          "text": [
            "(25000, 3)\n"
          ],
          "name": "stdout"
        },
        {
          "output_type": "execute_result",
          "data": {
            "text/html": [
              "<div>\n",
              "<style scoped>\n",
              "    .dataframe tbody tr th:only-of-type {\n",
              "        vertical-align: middle;\n",
              "    }\n",
              "\n",
              "    .dataframe tbody tr th {\n",
              "        vertical-align: top;\n",
              "    }\n",
              "\n",
              "    .dataframe thead th {\n",
              "        text-align: right;\n",
              "    }\n",
              "</style>\n",
              "<table border=\"1\" class=\"dataframe\">\n",
              "  <thead>\n",
              "    <tr style=\"text-align: right;\">\n",
              "      <th></th>\n",
              "      <th>id</th>\n",
              "      <th>sentiment</th>\n",
              "      <th>review</th>\n",
              "    </tr>\n",
              "  </thead>\n",
              "  <tbody>\n",
              "    <tr>\n",
              "      <th>0</th>\n",
              "      <td>5814_8</td>\n",
              "      <td>1</td>\n",
              "      <td>With all this stuff going down at the moment w...</td>\n",
              "    </tr>\n",
              "    <tr>\n",
              "      <th>1</th>\n",
              "      <td>2381_9</td>\n",
              "      <td>1</td>\n",
              "      <td>\\The Classic War of the Worlds\\\" by Timothy Hi...</td>\n",
              "    </tr>\n",
              "    <tr>\n",
              "      <th>2</th>\n",
              "      <td>7759_3</td>\n",
              "      <td>0</td>\n",
              "      <td>The film starts with a manager (Nicholas Bell)...</td>\n",
              "    </tr>\n",
              "  </tbody>\n",
              "</table>\n",
              "</div>"
            ],
            "text/plain": [
              "       id  sentiment                                             review\n",
              "0  5814_8          1  With all this stuff going down at the moment w...\n",
              "1  2381_9          1  \\The Classic War of the Worlds\\\" by Timothy Hi...\n",
              "2  7759_3          0  The film starts with a manager (Nicholas Bell)..."
            ]
          },
          "metadata": {
            "tags": []
          },
          "execution_count": 4
        }
      ]
    },
    {
      "cell_type": "code",
      "metadata": {
        "id": "xjdSLjhQRRrW",
        "colab_type": "code",
        "colab": {
          "base_uri": "https://localhost:8080/",
          "height": 57
        },
        "outputId": "72fd91c0-1595-4af5-c39e-3213aaba1352"
      },
      "source": [
        "texts=[]\n",
        "labels=[]\n",
        "\n",
        "data_train['review'] = data_train['review'].astype(str).str.replace(\"\\r\", \" \")\n",
        "data_train['review'] = data_train['review'].astype(str).str.replace(\"\\n\", \" \")\n",
        "data_train['review'] = data_train['review'].astype(str).str.replace(\"    \", \" \")\n",
        "data_train['review'] = data_train['review'].astype(str).str.replace('\"', '')\n",
        "data_train['review'] = data_train['review'].astype(str).str.replace(\"\\\\\",\"\")\n",
        "data_train['review'] = data_train['review'].astype(str).str.replace(\"\\'\",\"\")\n",
        "data_train['review'] = data_train['review'].astype(str).str.replace(\"\\\"\",\"\")\n",
        "data_train['review'] = data_train['review'].astype(str).str.lower()\n",
        "\n",
        "punctuation_signs = list(\"-()?:!.,;\")\n",
        "for punct_sign in punctuation_signs:\n",
        "    data_train['review'] = data_train['review'].astype(str).str.replace(punct_sign,\"\")\n",
        "\n",
        "data_train.loc[3]['review']\n"
      ],
      "execution_count": null,
      "outputs": [
        {
          "output_type": "execute_result",
          "data": {
            "text/plain": [
              "'it must be assumed that those who praised this film the greatest filmed opera ever didnt i read somewhere either dont care for opera dont care for wagner or dont care about anything except their desire to appear cultured either as a representation of wagners swansong or as a movie this strikes me as an unmitigated disaster with a leaden reading of the score matched to a tricksy lugubrious realisation of the text<br /><br />its questionable that people with ideas as to what an opera or for that matter a play especially one by shakespeare is about should be allowed anywhere near a theatre or film studio syberberg very fashionably but without the smallest justification from wagners text decided that parsifal is about bisexual integration so that the title character in the latter stages transmutes into a kind of beatnik babe though one who continues to sing high tenor  few if any of the actors in the film are the singers and we get a double dose of armin jordan the conductor who is seen as the face but not heard as the voice of amfortas and also appears monstrously in double exposure as a kind of batonzilla or conductor who ate monsalvat during the playing of the good friday music  in which by the way the transcendant loveliness of nature is represented by a scattering of shopworn and flaccid crocuses stuck in illlaid turf an expedient which baffles me in the theatre we sometimes have to piece out such imperfections with our thoughts but i cant think why syberberg couldnt splice in for parsifal and gurnemanz mountain pasture as lush as was provided for julie andrews in sound of music<br /><br />the sound is hard to endure the high voices and the trumpets in particular possessing an aural glare that adds another sort of fatigue to our impatience with the uninspired conducting and paralytic unfolding of the ritual someone in another review mentioned the 1951 bayreuth recording and knappertsbusch though his tempi are often very slow had what jordan altogether lacks a sense of pulse a feeling for the ebb and flow of the music  and after half a century the orchestral sound in that set in modern pressings is still superior to this film'"
            ]
          },
          "metadata": {
            "tags": []
          },
          "execution_count": 5
        }
      ]
    },
    {
      "cell_type": "code",
      "metadata": {
        "id": "-l6ESOl_Orri",
        "colab_type": "code",
        "colab": {}
      },
      "source": [
        "wordnet_lemmatizer = WordNetLemmatizer()\n",
        "nrows = len(data_train)\n",
        "lemmatized_text_list = []\n",
        "\n",
        "for row in range(0, nrows):\n",
        "    lemmatized_list = []\n",
        "    text = data_train.loc[row]['review']\n",
        "    text_words = text.split(\" \")\n",
        "    for word in text_words:\n",
        "        lemmatized_list.append(wordnet_lemmatizer.lemmatize(word, pos=\"v\"))\n",
        "    lemmatized_text = \" \".join(lemmatized_list)\n",
        "    lemmatized_text_list.append(lemmatized_text)\n",
        "  \n",
        "data_train['review'] = lemmatized_text_list"
      ],
      "execution_count": null,
      "outputs": []
    },
    {
      "cell_type": "code",
      "metadata": {
        "id": "ZKQwEBI6PcPn",
        "colab_type": "code",
        "colab": {}
      },
      "source": [
        "stop_words = list(stopwords.words('english'))\n",
        "data_train['review'] = data_train['review']\n",
        "\n",
        "for stop_word in stop_words:\n",
        "\n",
        "    regex_stopword = r\"\\b\" + stop_word + r\"\\b\"\n",
        "    data_train['review'] = data_train['review'].str.replace(regex_stopword, '')"
      ],
      "execution_count": null,
      "outputs": []
    },
    {
      "cell_type": "code",
      "metadata": {
        "id": "sC7TvqzCPxU0",
        "colab_type": "code",
        "colab": {
          "base_uri": "https://localhost:8080/",
          "height": 57
        },
        "outputId": "2ff0a5b3-7b35-4170-91e2-f05f346a1362"
      },
      "source": [
        "for idx in range(data_train.review.shape[0]):\n",
        "    text = BeautifulSoup(data_train.review[idx],'lxml')\n",
        "    texts.append(text.get_text())\n",
        "    labels.append(data_train.sentiment[idx])\n",
        "\n",
        "texts[3]"
      ],
      "execution_count": null,
      "outputs": [
        {
          "output_type": "execute_result",
          "data": {
            "text/plain": [
              "'must  assume    praise  film  greatest film opera ever didnt  read somewhere either dont care  opera dont care  wagner  dont care  anything except  desire  appear culture either   representation  wagners swansong    movie  strike    unmitigated disaster   leaden read   score match   tricksy lugubrious realisation   text questionable  people  ideas     opera    matter  play especially one  shakespeare     allow anywhere near  theatre  film studio syberberg  fashionably  without  smallest justification  wagners text decide  parsifal   bisexual integration    title character   latter stag transmute   kind  beatnik babe though one  continue  sing high tenor       actors   film   singers   get  double dose  armin jordan  conductor   see   face   hear   voice  amfortas  also appear monstrously  double exposure   kind  batonzilla  conductor  eat monsalvat   play   good friday music      way  transcendant loveliness  nature  represent   scatter  shopworn  flaccid crocuses stick  illlaid turf  expedient  baffle    theatre  sometimes   piece   imperfections   thoughts   cant think  syberberg couldnt splice   parsifal  gurnemanz mountain pasture  lush   provide  julie andrews  sound  music sound  hard  endure  high voice   trumpet  particular possess  aural glare  add another sort  fatigue   impatience   uninspired conduct  paralytic unfold   ritual someone  another review mention  1951 bayreuth record  knappertsbusch though  tempi  often  slow   jordan altogether lack  sense  pulse  feel   ebb  flow   music    half  century  orchestral sound   set  modern press  still superior   film'"
            ]
          },
          "metadata": {
            "tags": []
          },
          "execution_count": 8
        }
      ]
    },
    {
      "cell_type": "code",
      "metadata": {
        "id": "Ya_a-aTdQsnj",
        "colab_type": "code",
        "colab": {
          "base_uri": "https://localhost:8080/",
          "height": 34
        },
        "outputId": "df0a7daa-7717-4e0f-82d9-a9b8262c1252"
      },
      "source": [
        "tokenizer=Tokenizer(num_words=MAX_NB_WORDS)\n",
        "tokenizer.fit_on_texts(texts)\n",
        "sequences = tokenizer.texts_to_sequences(texts)\n",
        "\n",
        "word_index = tokenizer.word_index\n",
        "print('Found %s unique tokens.' % len(word_index))"
      ],
      "execution_count": null,
      "outputs": [
        {
          "output_type": "stream",
          "text": [
            "Found 113800 unique tokens.\n"
          ],
          "name": "stdout"
        }
      ]
    },
    {
      "cell_type": "code",
      "metadata": {
        "id": "Mh0n5mk_Qvdu",
        "colab_type": "code",
        "colab": {
          "base_uri": "https://localhost:8080/",
          "height": 51
        },
        "outputId": "523241b9-9510-48ec-e546-5449d8fe89fc"
      },
      "source": [
        "data = pad_sequences(sequences, maxlen=MAX_SEQUENCE_LENGTH)\n",
        "labels = to_categorical(np.asarray(labels))\n",
        "labels = np.asarray(labels, dtype = np.float32)\n",
        "print('Shape of data tensor: ', data.shape)\n",
        "print('Shape of label tensor: ',labels.shape)"
      ],
      "execution_count": null,
      "outputs": [
        {
          "output_type": "stream",
          "text": [
            "Shape of data tensor:  (25000, 1000)\n",
            "Shape of label tensor:  (25000, 2, 2)\n"
          ],
          "name": "stdout"
        }
      ]
    },
    {
      "cell_type": "code",
      "metadata": {
        "id": "pVhWd-_SQyeG",
        "colab_type": "code",
        "colab": {
          "base_uri": "https://localhost:8080/",
          "height": 102
        },
        "outputId": "888bed01-9c7b-48a2-f71c-3a5392cb688b"
      },
      "source": [
        "indices = np.arange(data.shape[0])\n",
        "np.random.shuffle(indices)\n",
        "data = data[indices]\n",
        "labels = labels[indices]\n",
        "num_validation_samples = int(VALIDATION_SPLIT * data.shape[0])\n",
        "\n",
        "x_train = data[:-num_validation_samples]\n",
        "y_train = labels[:-num_validation_samples]\n",
        "x_val = data[-num_validation_samples:]\n",
        "y_val = labels[-num_validation_samples:]\n",
        "\n",
        "print ('Number of negative and positive reviews in training and validation set')\n",
        "print(y_train.sum(axis=0))\n",
        "print(y_val.sum(axis=0))"
      ],
      "execution_count": null,
      "outputs": [
        {
          "output_type": "stream",
          "text": [
            "Number of negative and positive reviews in training and validation set\n",
            "[[10042.  9958.]\n",
            " [ 9958. 10042.]]\n",
            "[[2458. 2542.]\n",
            " [2542. 2458.]]\n"
          ],
          "name": "stdout"
        }
      ]
    },
    {
      "cell_type": "code",
      "metadata": {
        "id": "iWClgG-uQ3vw",
        "colab_type": "code",
        "colab": {
          "base_uri": "https://localhost:8080/",
          "height": 34
        },
        "outputId": "35ccd21a-f872-4d63-af15-d41b58af3c96"
      },
      "source": [
        "embeddings_index = {}\n",
        "f=open('/content/drive/My Drive/Colab Notebooks/glove.6B.100d.txt',encoding='utf8')\n",
        "for line in f:\n",
        "    values = line.split()\n",
        "    word = values[0]\n",
        "    coefs = np.asarray(values[1:],dtype='float32')\n",
        "    embeddings_index[word]=coefs\n",
        "f.close()\n",
        "\n",
        "print('Total %s word vectors in Glove 6B 100d.' % len(embeddings_index))\n",
        "\n",
        "embedding_matrix = np.random.random((len(word_index)+1,EMBEDDING_DIM))\n",
        "for word, i in word_index.items():\n",
        "    embedding_vector = embeddings_index.get(word)\n",
        "    if embedding_vector is not None:\n",
        "        embedding_matrix[i]=embedding_vector"
      ],
      "execution_count": null,
      "outputs": [
        {
          "output_type": "stream",
          "text": [
            "Total 400000 word vectors in Glove 6B 100d.\n"
          ],
          "name": "stdout"
        }
      ]
    },
    {
      "cell_type": "code",
      "metadata": {
        "id": "yCdPiWKRn8Lp",
        "colab_type": "code",
        "colab": {
          "base_uri": "https://localhost:8080/",
          "height": 323
        },
        "outputId": "c35bfc1e-624a-4e0f-c55c-c96ad8d524c9"
      },
      "source": [
        "embedding_layer = Embedding(len(word_index) +1,\n",
        "                    EMBEDDING_DIM,\n",
        "                    weights = [embedding_matrix],\n",
        "                    input_length=MAX_SEQUENCE_LENGTH,\n",
        "                    trainable = True)\n",
        "sequence_input = sequence_input = Input(shape=(MAX_SEQUENCE_LENGTH,),dtype='int32')\n",
        "embedded_sequences = embedding_layer(sequence_input)\n",
        "l_bilstm = Bidirectional(LSTM(100))(embedded_sequences)\n",
        "dropout = Dropout(0.5)(l_bilstm)\n",
        "preds = Dense(2,activation='softmax')(dropout)\n",
        "model_bilstm = Model(sequence_input,preds)\n",
        "\n",
        "model_bilstm.compile(loss='categorical_crossentropy',\n",
        "              optimizer='rmsprop',\n",
        "              metrics=['acc'])\n",
        "\n",
        "model_bilstm.summary()"
      ],
      "execution_count": null,
      "outputs": [
        {
          "output_type": "stream",
          "text": [
            "Model: \"model_1\"\n",
            "_________________________________________________________________\n",
            "Layer (type)                 Output Shape              Param #   \n",
            "=================================================================\n",
            "input_2 (InputLayer)         (None, 1000)              0         \n",
            "_________________________________________________________________\n",
            "embedding_1 (Embedding)      (None, 1000, 100)         11380100  \n",
            "_________________________________________________________________\n",
            "bidirectional_1 (Bidirection (None, 200)               160800    \n",
            "_________________________________________________________________\n",
            "dropout_1 (Dropout)          (None, 200)               0         \n",
            "_________________________________________________________________\n",
            "dense_1 (Dense)              (None, 2)                 402       \n",
            "=================================================================\n",
            "Total params: 11,541,302\n",
            "Trainable params: 11,541,302\n",
            "Non-trainable params: 0\n",
            "_________________________________________________________________\n"
          ],
          "name": "stdout"
        }
      ]
    },
    {
      "cell_type": "code",
      "metadata": {
        "id": "Qo8iF-a0TseA",
        "colab_type": "code",
        "colab": {
          "base_uri": "https://localhost:8080/",
          "height": 1000
        },
        "outputId": "79524c85-cf40-494f-801a-ed0e5e598693"
      },
      "source": [
        "print(\"model fitting - Bidirectional LSTM\")\n",
        "cp=ModelCheckpoint('model_rnn.hdf5',monitor='val_acc',verbose=1,save_best_only=True)\n",
        "history_bilstm = model_bilstm.fit(x_train, y_train, \n",
        "          validation_data=(x_val,y_val),\n",
        "          epochs=10,batch_size=64,callbacks=[cp])"
      ],
      "execution_count": null,
      "outputs": [
        {
          "output_type": "stream",
          "text": [
            "model fitting - Bidirectional LSTM\n"
          ],
          "name": "stdout"
        },
        {
          "output_type": "stream",
          "text": [
            "/usr/local/lib/python3.6/dist-packages/tensorflow/python/framework/indexed_slices.py:434: UserWarning: Converting sparse IndexedSlices to a dense Tensor of unknown shape. This may consume a large amount of memory.\n",
            "  \"Converting sparse IndexedSlices to a dense Tensor of unknown shape. \"\n"
          ],
          "name": "stderr"
        },
        {
          "output_type": "stream",
          "text": [
            "Train on 20000 samples, validate on 5000 samples\n",
            "Epoch 1/10\n",
            "20000/20000 [==============================] - 943s 47ms/step - loss: 0.5066 - acc: 0.7558 - val_loss: 0.3919 - val_acc: 0.8270\n",
            "\n",
            "Epoch 00001: val_acc improved from -inf to 0.82700, saving model to model_rnn.hdf5\n",
            "Epoch 2/10\n",
            "20000/20000 [==============================] - 947s 47ms/step - loss: 0.3433 - acc: 0.8572 - val_loss: 0.2982 - val_acc: 0.8838\n",
            "\n",
            "Epoch 00002: val_acc improved from 0.82700 to 0.88380, saving model to model_rnn.hdf5\n",
            "Epoch 3/10\n",
            "20000/20000 [==============================] - 948s 47ms/step - loss: 0.2611 - acc: 0.8988 - val_loss: 0.3933 - val_acc: 0.8804\n",
            "\n",
            "Epoch 00003: val_acc did not improve from 0.88380\n",
            "Epoch 4/10\n",
            "20000/20000 [==============================] - 946s 47ms/step - loss: 0.2095 - acc: 0.9195 - val_loss: 0.2921 - val_acc: 0.8936\n",
            "\n",
            "Epoch 00004: val_acc improved from 0.88380 to 0.89360, saving model to model_rnn.hdf5\n",
            "Epoch 5/10\n",
            "20000/20000 [==============================] - 950s 47ms/step - loss: 0.1718 - acc: 0.9366 - val_loss: 0.2702 - val_acc: 0.8954\n",
            "\n",
            "Epoch 00005: val_acc improved from 0.89360 to 0.89540, saving model to model_rnn.hdf5\n",
            "Epoch 6/10\n",
            "20000/20000 [==============================] - 951s 48ms/step - loss: 0.1420 - acc: 0.9499 - val_loss: 0.3044 - val_acc: 0.8964\n",
            "\n",
            "Epoch 00006: val_acc improved from 0.89540 to 0.89640, saving model to model_rnn.hdf5\n",
            "Epoch 7/10\n",
            "20000/20000 [==============================] - 949s 47ms/step - loss: 0.1161 - acc: 0.9602 - val_loss: 0.3065 - val_acc: 0.8966\n",
            "\n",
            "Epoch 00007: val_acc improved from 0.89640 to 0.89660, saving model to model_rnn.hdf5\n",
            "Epoch 8/10\n",
            "20000/20000 [==============================] - 953s 48ms/step - loss: 0.0965 - acc: 0.9677 - val_loss: 0.3122 - val_acc: 0.8932\n",
            "\n",
            "Epoch 00008: val_acc did not improve from 0.89660\n",
            "Epoch 9/10\n",
            "20000/20000 [==============================] - 954s 48ms/step - loss: 0.0739 - acc: 0.9751 - val_loss: 0.3464 - val_acc: 0.8860\n",
            "\n",
            "Epoch 00009: val_acc did not improve from 0.89660\n",
            "Epoch 10/10\n",
            "20000/20000 [==============================] - 952s 48ms/step - loss: 0.0575 - acc: 0.9815 - val_loss: 0.3526 - val_acc: 0.8906\n",
            "\n",
            "Epoch 00010: val_acc did not improve from 0.89660\n"
          ],
          "name": "stdout"
        }
      ]
    },
    {
      "cell_type": "code",
      "metadata": {
        "id": "L3TJmOY8yzIQ",
        "colab_type": "code",
        "colab": {
          "base_uri": "https://localhost:8080/",
          "height": 302
        },
        "outputId": "85a5241e-c5ca-418b-cac3-86d393380b28"
      },
      "source": [
        "fig1 = plt.figure()\n",
        "plt.plot(history_bilstm.history['loss'],'r',linewidth=3.0)\n",
        "plt.plot(history_bilstm.history['val_loss'],'b',linewidth=3.0)\n",
        "plt.legend(['Training loss', 'Validation Loss'],fontsize=18)\n",
        "plt.xlabel('Epochs ',fontsize=16)\n",
        "plt.ylabel('Loss',fontsize=16)\n",
        "plt.title('Loss Curves :BiLSTM',fontsize=16)\n",
        "fig1.savefig('loss_bilstm.png')\n",
        "plt.show()"
      ],
      "execution_count": null,
      "outputs": [
        {
          "output_type": "display_data",
          "data": {
            "image/png": "[encoded data removed]",
            "text/plain": [
              "<Figure size 432x288 with 1 Axes>"
            ]
          },
          "metadata": {
            "tags": [],
            "needs_background": "light"
          }
        }
      ]
    },
    {
      "cell_type": "code",
      "metadata": {
        "id": "F5ubYLQkF5x4",
        "colab_type": "code",
        "colab": {
          "base_uri": "https://localhost:8080/",
          "height": 302
        },
        "outputId": "64cd5ffc-7698-47d0-b41c-ff19cbb5d2bf"
      },
      "source": [
        "fig2=plt.figure()\n",
        "plt.plot(history_bilstm.history['acc'],'r',linewidth=3.0)\n",
        "plt.plot(history_bilstm.history['val_acc'],'b',linewidth=3.0)\n",
        "plt.legend(['Training Accuracy', 'Validation Accuracy'],fontsize=18)\n",
        "plt.xlabel('Epochs ',fontsize=16)\n",
        "plt.ylabel('Accuracy',fontsize=16)\n",
        "plt.title('Accuracy Curves : BiLSTM',fontsize=16)\n",
        "fig2.savefig('accuracy_bilstm.png')\n",
        "plt.show()"
      ],
      "execution_count": null,
      "outputs": [
        {
          "output_type": "display_data",
          "data": {
            "image/png": "[encoded data removed]",
            "text/plain": [
              "<Figure size 432x288 with 1 Axes>"
            ]
          },
          "metadata": {
            "tags": [],
            "needs_background": "light"
          }
        }
      ]
    },
    {
      "cell_type": "code",
      "metadata": {
        "id": "lXy-gi2qwdoY",
        "colab_type": "code",
        "colab": {
          "base_uri": "https://localhost:8080/",
          "height": 561
        },
        "outputId": "fe6390eb-1000-4cc9-e2ac-60b0a75580e9"
      },
      "source": [
        "sequence_input = Input(shape=(MAX_SEQUENCE_LENGTH,), dtype='int32')\n",
        "embedded_sequences = embedding_layer(sequence_input)\n",
        "l_cov1= Conv1D(128, 5, activation='relu')(embedded_sequences)\n",
        "l_pool1 = MaxPooling1D(5)(l_cov1)\n",
        "l_cov2 = Conv1D(128, 5, activation='relu')(l_pool1)\n",
        "l_pool2 = MaxPooling1D(5)(l_cov2)\n",
        "l_cov3 = Conv1D(128, 5, activation='relu')(l_pool2)\n",
        "l_pool3 = MaxPooling1D(35)(l_cov3)\n",
        "l_flat = Flatten()(l_pool3)\n",
        "l_dropout = Dropout(0.5)(l_flat)\n",
        "l_dense = Dense(128, activation='relu')(l_dropout)\n",
        "preds = Dense(2, activation='softmax')(l_dense)\n",
        "\n",
        "model_cnn = Model(sequence_input, preds)\n",
        "model_cnn.compile(loss='categorical_crossentropy',\n",
        "              optimizer='rmsprop',\n",
        "              metrics=['acc'])\n",
        "model_cnn.summary()"
      ],
      "execution_count": null,
      "outputs": [
        {
          "output_type": "stream",
          "text": [
            "Model: \"model_2\"\n",
            "_________________________________________________________________\n",
            "Layer (type)                 Output Shape              Param #   \n",
            "=================================================================\n",
            "input_3 (InputLayer)         (None, 1000)              0         \n",
            "_________________________________________________________________\n",
            "embedding_1 (Embedding)      (None, 1000, 100)         11380100  \n",
            "_________________________________________________________________\n",
            "conv1d_1 (Conv1D)            (None, 996, 128)          64128     \n",
            "_________________________________________________________________\n",
            "max_pooling1d_1 (MaxPooling1 (None, 199, 128)          0         \n",
            "_________________________________________________________________\n",
            "conv1d_2 (Conv1D)            (None, 195, 128)          82048     \n",
            "_________________________________________________________________\n",
            "max_pooling1d_2 (MaxPooling1 (None, 39, 128)           0         \n",
            "_________________________________________________________________\n",
            "conv1d_3 (Conv1D)            (None, 35, 128)           82048     \n",
            "_________________________________________________________________\n",
            "max_pooling1d_3 (MaxPooling1 (None, 1, 128)            0         \n",
            "_________________________________________________________________\n",
            "flatten_1 (Flatten)          (None, 128)               0         \n",
            "_________________________________________________________________\n",
            "dropout_2 (Dropout)          (None, 128)               0         \n",
            "_________________________________________________________________\n",
            "dense_2 (Dense)              (None, 128)               16512     \n",
            "_________________________________________________________________\n",
            "dense_3 (Dense)              (None, 2)                 258       \n",
            "=================================================================\n",
            "Total params: 11,625,094\n",
            "Trainable params: 11,625,094\n",
            "Non-trainable params: 0\n",
            "_________________________________________________________________\n"
          ],
          "name": "stdout"
        }
      ]
    },
    {
      "cell_type": "code",
      "metadata": {
        "id": "pEbmxEuxyxlp",
        "colab_type": "code",
        "colab": {
          "base_uri": "https://localhost:8080/",
          "height": 1000
        },
        "outputId": "e7384e42-2093-41c6-9ecf-e1ecb5fa9ef7"
      },
      "source": [
        "print(\"model fitting - Simplified CNN\")\n",
        "cp=ModelCheckpoint('model_rnn.hdf5',monitor='val_acc',verbose=1,save_best_only=True)\n",
        "history_cnn = model_cnn.fit(x_train, y_train, \n",
        "          validation_data=(x_val,y_val),\n",
        "          epochs=10,batch_size=64,callbacks=[cp])"
      ],
      "execution_count": null,
      "outputs": [
        {
          "output_type": "stream",
          "text": [
            "model fitting - Simplified CNN\n"
          ],
          "name": "stdout"
        },
        {
          "output_type": "stream",
          "text": [
            "/usr/local/lib/python3.6/dist-packages/tensorflow/python/framework/indexed_slices.py:434: UserWarning: Converting sparse IndexedSlices to a dense Tensor of unknown shape. This may consume a large amount of memory.\n",
            "  \"Converting sparse IndexedSlices to a dense Tensor of unknown shape. \"\n"
          ],
          "name": "stderr"
        },
        {
          "output_type": "stream",
          "text": [
            "Train on 20000 samples, validate on 5000 samples\n",
            "Epoch 1/10\n",
            "20000/20000 [==============================] - 267s 13ms/step - loss: 0.3618 - acc: 0.8232 - val_loss: 0.6993 - val_acc: 0.7414\n",
            "\n",
            "Epoch 00001: val_acc improved from -inf to 0.74140, saving model to model_rnn.hdf5\n",
            "Epoch 2/10\n",
            "20000/20000 [==============================] - 271s 14ms/step - loss: 0.1874 - acc: 0.9292 - val_loss: 0.2924 - val_acc: 0.8850\n",
            "\n",
            "Epoch 00002: val_acc improved from 0.74140 to 0.88500, saving model to model_rnn.hdf5\n",
            "Epoch 3/10\n",
            "20000/20000 [==============================] - 264s 13ms/step - loss: 0.1405 - acc: 0.9518 - val_loss: 0.4452 - val_acc: 0.8838\n",
            "\n",
            "Epoch 00003: val_acc did not improve from 0.88500\n",
            "Epoch 4/10\n",
            "20000/20000 [==============================] - 267s 13ms/step - loss: 0.1075 - acc: 0.9642 - val_loss: 0.5014 - val_acc: 0.8812\n",
            "\n",
            "Epoch 00004: val_acc did not improve from 0.88500\n",
            "Epoch 5/10\n",
            "20000/20000 [==============================] - 265s 13ms/step - loss: 0.0794 - acc: 0.9752 - val_loss: 0.5418 - val_acc: 0.8778\n",
            "\n",
            "Epoch 00005: val_acc did not improve from 0.88500\n",
            "Epoch 6/10\n",
            "20000/20000 [==============================] - 267s 13ms/step - loss: 0.0700 - acc: 0.9813 - val_loss: 0.5761 - val_acc: 0.8804\n",
            "\n",
            "Epoch 00006: val_acc did not improve from 0.88500\n",
            "Epoch 7/10\n",
            "20000/20000 [==============================] - 265s 13ms/step - loss: 0.0595 - acc: 0.9875 - val_loss: 0.8987 - val_acc: 0.8696\n",
            "\n",
            "Epoch 00007: val_acc did not improve from 0.88500\n",
            "Epoch 8/10\n",
            "20000/20000 [==============================] - 265s 13ms/step - loss: 0.0355 - acc: 0.9909 - val_loss: 0.8635 - val_acc: 0.8796\n",
            "\n",
            "Epoch 00008: val_acc did not improve from 0.88500\n",
            "Epoch 9/10\n",
            "20000/20000 [==============================] - 269s 13ms/step - loss: 0.0407 - acc: 0.9925 - val_loss: 1.3801 - val_acc: 0.8798\n",
            "\n",
            "Epoch 00009: val_acc did not improve from 0.88500\n",
            "Epoch 10/10\n",
            "20000/20000 [==============================] - 263s 13ms/step - loss: 0.0304 - acc: 0.9948 - val_loss: 1.4524 - val_acc: 0.8660\n",
            "\n",
            "Epoch 00010: val_acc did not improve from 0.88500\n"
          ],
          "name": "stdout"
        }
      ]
    },
    {
      "cell_type": "code",
      "metadata": {
        "id": "_PSx9h1-HBQH",
        "colab_type": "code",
        "colab": {
          "base_uri": "https://localhost:8080/",
          "height": 302
        },
        "outputId": "4dd7b678-5cb0-4c9d-bcf1-160f3552ae48"
      },
      "source": [
        "fig3 = plt.figure()\n",
        "plt.plot(history_cnn.history['loss'],'r',linewidth=3.0)\n",
        "plt.plot(history_cnn.history['val_loss'],'b',linewidth=3.0)\n",
        "plt.legend(['Training loss', 'Validation Loss'],fontsize=18)\n",
        "plt.xlabel('Epochs ',fontsize=16)\n",
        "plt.ylabel('Loss',fontsize=16)\n",
        "plt.title('Loss Curves :CNN',fontsize=16)\n",
        "fig3.savefig('loss_cnn.png')\n",
        "plt.show()"
      ],
      "execution_count": null,
      "outputs": [
        {
          "output_type": "display_data",
          "data": {
            "image/png": "[encoded data removed]",
            "text/plain": [
              "<Figure size 432x288 with 1 Axes>"
            ]
          },
          "metadata": {
            "tags": [],
            "needs_background": "light"
          }
        }
      ]
    },
    {
      "cell_type": "code",
      "metadata": {
        "id": "XS8t0PmUHRx8",
        "colab_type": "code",
        "colab": {
          "base_uri": "https://localhost:8080/",
          "height": 302
        },
        "outputId": "2ff57dd6-73a3-4872-a66f-03b31f2e9031"
      },
      "source": [
        "fig4 = plt.figure()\n",
        "plt.plot(history_cnn.history['acc'],'r',linewidth=3.0)\n",
        "plt.plot(history_cnn.history['val_acc'],'b',linewidth=3.0)\n",
        "plt.legend(['Training Accuracy', 'Validation Accuracy'],fontsize=18)\n",
        "plt.xlabel('Epochs ',fontsize=16)\n",
        "plt.ylabel('Loss',fontsize=16)\n",
        "plt.title('Accuracy Curves :CNN',fontsize=16)\n",
        "fig4.savefig('accuracy_cnn.png')\n",
        "plt.show()"
      ],
      "execution_count": null,
      "outputs": [
        {
          "output_type": "display_data",
          "data": {
            "image/png": "[encoded data removed]",
            "text/plain": [
              "<Figure size 432x288 with 1 Axes>"
            ]
          },
          "metadata": {
            "tags": [],
            "needs_background": "light"
          }
        }
      ]
    }
  ]
}